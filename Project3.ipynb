{
 "cells": [
  {
   "cell_type": "markdown",
   "metadata": {},
   "source": [
    "# Data Mining Project 3 - Link Analysis\n",
    "*Date : 2018/12/25*\n",
    "\n",
    "    Hist and PageRank \n",
    "    (Lecture 7, P37, random jumping probability, i.e., damping factor=0.15) and calculate authority, hub and PageRank values for the following 8 graphs \n",
    "    - 6 graphs in project3dataset  \n",
    "    - 1 graphs from project1 transaction data (connect items in each row, bidirected or directed) \n",
    "    - SimRank to calculate pair-wise similarity of nodes (choice any parameter C you like) , using \n",
    "    - first 5 graphs of project3dataset. \n",
    "\n",
    "    Find a way (e.g., add/delete some links) to increase hub, authority, and PageRank of Node 1 in first 3 graphs respectively.\n",
    "\n",
    "    You should write a report for your system, including: \n",
    "    - Implementation detail \n",
    "    - Result analysis and discussion \n",
    "    - Computation performance analysis \n",
    "    - Discussion (what you learned from this project and your comments about this project) \n",
    "\n",
    "    1. More limitations about link analysis algorithms \n",
    "    2. Can link analysis algorithms really find the “important” pages from Web? \n",
    "    3. What are practical issues when implement these algorithms in a real Web? \n",
    "        - Performance discussion (time cost) \n",
    "    4. What do the result say for your actor/movie graph?  \n",
    "    5. Any new idea about the link analysis algorithm? \n",
    "    6. What is the effect of “C” parameter in SimRank? \n",
    "    7. Design a new link-based similarity measurement \n",
    "## Dataset\n",
    "- project3dataset\n",
    "- transaction data\n",
    "\n",
    "## Algorithm:\n",
    "### HITS \n",
    "```\n",
    " 1 G := set of pages\n",
    " 2 for each page p in G do\n",
    " 3   p.auth = 1 // p.auth is the authority score of the page p\n",
    " 4   p.hub = 1 // p.hub is the hub score of the page p\n",
    " 5 function HubsAndAuthorities(G)\n",
    " 6   for step from 1 to k do // run the algorithm for k steps\n",
    " 7     norm = 0\n",
    " 8     for each page p in G do  // update all authority values first\n",
    " 9       p.auth = 0\n",
    "10       for each page q in p.incomingNeighbors do // p.incomingNeighbors is the set of pages that link to p\n",
    "11          p.auth += q.hub\n",
    "12       norm += square(p.auth) // calculate the sum of the squared auth values to normalise\n",
    "13     norm = sqrt(norm)\n",
    "14     for each page p in G do  // update the auth scores \n",
    "15       p.auth = p.auth / norm  // normalise the auth values\n",
    "16     norm = 0\n",
    "17     for each page p in G do  // then update all hub values\n",
    "18       p.hub = 0\n",
    "19       for each page r in p.outgoingNeighbors do // p.outgoingNeighbors is the set of pages that p links to\n",
    "20         p.hub += r.auth\n",
    "21       norm += square(p.hub) // calculate the sum of the squared hub values to normalise\n",
    "22     norm = sqrt(norm)\n",
    "23     for each page p in G do  // then update all hub values\n",
    "24       p.hub = p.hub / norm   // normalise the hub values\n",
    "```\n",
    "- *reference from [wiki](https://en.wikipedia.org/wiki/HITS_algorithm)*\n",
    "### PageRank\n",
    "\n",
    ">![](https://wikimedia.org/api/rest_v1/media/math/render/svg/7a88d72ae8cfe827f8872d60bbe5905a8165b587)\n",
    "\n",
    ">![](https://wikimedia.org/api/rest_v1/media/math/render/svg/6bb0f1469218a064274fd4691143e9ce64639dc2)\n",
    "\n",
    "*reference from [wiki](https://en.wikipedia.org/wiki/PageRank)*\n",
    "### SimRank\n",
    "\n",
    ">![](https://wikimedia.org/api/rest_v1/media/math/render/svg/da632465bb3b520d1fce5d79f0c4627eb16766c4)\n",
    "\n",
    ">![](https://wikimedia.org/api/rest_v1/media/math/render/svg/dafa90b2a86f89371a5951c779ba07c7d1ab6e97)\n",
    "\n",
    "*reference from [wiki](https://en.wikipedia.org/wiki/SimRank)*\n",
    "## Code\n",
    "---"
   ]
  },
  {
   "cell_type": "code",
   "execution_count": 2,
   "metadata": {},
   "outputs": [],
   "source": [
    "import numpy as np\n",
    "import pandas as pd\n",
    "import time"
   ]
  },
  {
   "cell_type": "code",
   "execution_count": 3,
   "metadata": {},
   "outputs": [],
   "source": [
    "class page():\n",
    "    \"\"\"define the page class\"\"\"\n",
    "    def __init__(self, name):\n",
    "        self.hub = 1       \n",
    "        self.auth = 1\n",
    "        self.pr = 1\n",
    "        self.name = name     \n",
    "        self.parents = []  # point out\n",
    "        self.childs = []   # point in"
   ]
  },
  {
   "cell_type": "code",
   "execution_count": 4,
   "metadata": {},
   "outputs": [],
   "source": [
    "def getGraph(filename):\n",
    "    \"\"\"read the text file and return the graph in dictionary form\"\"\"\n",
    "    graph = dict()\n",
    "    with open(filename) as f:\n",
    "        for line in f:\n",
    "            #read a line from file and split by comma\n",
    "            # p : parent(in) ; c : child(out)\n",
    "            p, c = [int(item) for item in line.rstrip().split(',')]\n",
    "            if p not in graph.keys():\n",
    "                graph.update({p:page(p)})\n",
    "            if c not in graph.keys():\n",
    "                graph.update({c:page(c)})\n",
    "            graph[p].childs.append(graph[c])\n",
    "            graph[c].parents.append(graph[p]) \n",
    "    return graph"
   ]
  },
  {
   "cell_type": "code",
   "execution_count": 5,
   "metadata": {},
   "outputs": [],
   "source": [
    "def AHPS(graph, simrank=True):\n",
    "    \"\"\"calculate hub , auth, PageRank and SimRank\"\"\"\n",
    "    # Calculate auth.\n",
    "    norm = 0\n",
    "    for name in graph:\n",
    "        p = graph[name]\n",
    "        p.auth = 0\n",
    "        for parent in p.parents:\n",
    "            p.auth += parent.hub\n",
    "        norm += np.power(p.auth, 2)\n",
    "    norm = np.sqrt(norm)\n",
    "    for name in graph:\n",
    "        p = graph[name]\n",
    "        p.auth /= norm\n",
    "\n",
    "    # Calculate hub\n",
    "    norm = 0\n",
    "    for name in graph:\n",
    "        p = graph[name]\n",
    "        p.hub = 0\n",
    "        for child in p.childs:\n",
    "            p.hub += child.auth\n",
    "        norm += np.power(p.hub, 2)\n",
    "    norm = np.sqrt(norm)\n",
    "    for name in graph:\n",
    "        p = graph[name]\n",
    "        p.hub /= norm\n",
    "\n",
    "    # Calculate PageRank \n",
    "    d = 0.15\n",
    "    e = 0.01\n",
    "    N = len(graph)\n",
    "    # k=0 initial\n",
    "    for name in graph:\n",
    "        graph[name].pr = 1/N\n",
    "    flag = True\n",
    "    k = 1\n",
    "    norm_temp = 1\n",
    "    while(flag):\n",
    "        count = 0\n",
    "        norm = 0\n",
    "        pr_temp = []\n",
    "        for name in graph:\n",
    "            P_i = graph[name]\n",
    "            pr_temp = P_i.pr*norm_temp\n",
    "            P_i.pr = d/N + (1-d)*sum([P_j.pr/len(P_j.childs) for P_j in P_i.parents])\n",
    "            norm += P_i.pr\n",
    "            if abs(pr_temp-P_i.pr) < 3:\n",
    "                count += 1\n",
    "        norm_temp = norm\n",
    "        for name in graph:\n",
    "            P_i = graph[name]\n",
    "            P_i.pr /= norm\n",
    "        if count == N:\n",
    "            flag = False\n",
    "        else:\n",
    "            k +=1\n",
    "    \n",
    "    # Calculate SimRank\n",
    "    if simrank:\n",
    "        start = time.time()\n",
    "        C = 0.6  # 0 < C < 1\n",
    "        # k=0 (initial)\n",
    "        S = np.zeros(N*N).reshape(N, N)\n",
    "        for i in range(N):\n",
    "            S[i, i] = 1\n",
    "        k = 1\n",
    "        flag = True\n",
    "        while(flag):\n",
    "            S_temp = S.copy()\n",
    "            for a in graph:\n",
    "                for b in graph:\n",
    "                    I_a = list(graph.keys()).index(graph[a].name)\n",
    "                    I_b = list(graph.keys()).index(graph[b].name)\n",
    "                    temp = len(graph[a].parents)*len(graph[b].parents)\n",
    "                    if I_a == I_b:\n",
    "                        S[I_a, I_b] = 1\n",
    "                    elif temp == 0:\n",
    "                        S[I_a, I_b] = 0\n",
    "                    else:\n",
    "                        count = 0\n",
    "                        for i in graph[a].parents:\n",
    "                            for j in graph[b].parents:\n",
    "                                I_i = list(graph.keys()).index(i.name)\n",
    "                                I_j = list(graph.keys()).index(j.name)\n",
    "                                count += S[I_i, I_j]\n",
    "                        S[I_a, I_b] = C/temp*count\n",
    "            if (S_temp == S).all():\n",
    "                flag = False\n",
    "            else:\n",
    "                k += 1\n",
    "        end = time.time()\n",
    "        print('[Calculate SimRank] time: {}'.format(end-start))\n",
    "        \n",
    "    # print result\n",
    "    df = pd.DataFrame(index=graph.keys(),columns=['Auth', 'Hub', 'PageRank'])\n",
    "    for p in graph:\n",
    "        df.loc[graph[p].name, :] = [round(item, 6) for item in [graph[p].auth, graph[p].hub, graph[p].pr]]\n",
    "    print(df)\n",
    "    if simrank:\n",
    "        print('SimRank:\\n{}'.format(S))"
   ]
  },
  {
   "cell_type": "markdown",
   "metadata": {},
   "source": [
    "## Result\n",
    "---"
   ]
  },
  {
   "cell_type": "markdown",
   "metadata": {},
   "source": [
    "### Graph1\n",
    "- Dataset: hw3dataset/graph_1.txt\n",
    "- Graph: 6 nodes, 5 edges\n",
    "- time: <15ms"
   ]
  },
  {
   "cell_type": "code",
   "execution_count": 6,
   "metadata": {},
   "outputs": [
    {
     "name": "stdout",
     "output_type": "stream",
     "text": [
      "[Calculate SimRank] time: 0.0\n",
      "       Auth       Hub  PageRank\n",
      "1         0  0.447214  0.060716\n",
      "2  0.447214  0.447214  0.112325\n",
      "3  0.447214  0.447214  0.156192\n",
      "4  0.447214  0.447214  0.193479\n",
      "5  0.447214  0.447214  0.225174\n",
      "6  0.447214         0  0.252114\n",
      "SimRank:\n",
      "[[1. 0. 0. 0. 0. 0.]\n",
      " [0. 1. 0. 0. 0. 0.]\n",
      " [0. 0. 1. 0. 0. 0.]\n",
      " [0. 0. 0. 1. 0. 0.]\n",
      " [0. 0. 0. 0. 1. 0.]\n",
      " [0. 0. 0. 0. 0. 1.]]\n",
      "Wall time: 12 ms\n"
     ]
    }
   ],
   "source": [
    "%%time\n",
    "# Read file and initial graph\n",
    "graph = getGraph('hw3dataset/graph_1.txt')\n",
    "AHPS(graph)"
   ]
  },
  {
   "cell_type": "markdown",
   "metadata": {},
   "source": [
    "#### Increase Hubness \n",
    "- Node 1 **link to all nodes in graph**\n",
    "- hub(node1): 0.447214 -> 0.913812"
   ]
  },
  {
   "cell_type": "code",
   "execution_count": 7,
   "metadata": {},
   "outputs": [
    {
     "name": "stdout",
     "output_type": "stream",
     "text": [
      "       Auth       Hub  PageRank\n",
      "1         0  0.913812  0.064885\n",
      "2  0.242536  0.203069  0.075916\n",
      "3  0.485071  0.203069  0.140445\n",
      "4  0.485071  0.203069  0.195294\n",
      "5  0.485071  0.203069  0.241916\n",
      "6  0.485071         0  0.281544\n"
     ]
    }
   ],
   "source": [
    "graph = getGraph('hw3dataset/graph_1.txt')\n",
    "for name in graph:\n",
    "    if name == 1:\n",
    "        continue\n",
    "    if graph[name] not in graph[1].childs:\n",
    "        graph[1].childs.append(graph[name])\n",
    "        graph[name].parents.append(graph[1])\n",
    "AHPS(graph, simrank=False)"
   ]
  },
  {
   "cell_type": "markdown",
   "metadata": {},
   "source": [
    "#### Increase Authority  \n",
    "- Node1 **receives all node cittaions in graph.**\n",
    "- auth(node1): 0 -> 0.912871"
   ]
  },
  {
   "cell_type": "code",
   "execution_count": 8,
   "metadata": {},
   "outputs": [
    {
     "name": "stdout",
     "output_type": "stream",
     "text": [
      "       Auth       Hub  PageRank\n",
      "1  0.912871  0.076696   0.34838\n",
      "2  0.182574  0.460179  0.315477\n",
      "3  0.182574  0.460179  0.153432\n",
      "4  0.182574  0.460179  0.084563\n",
      "5  0.182574  0.460179  0.055294\n",
      "6  0.182574  0.383482  0.042854\n"
     ]
    }
   ],
   "source": [
    "graph = getGraph('hw3dataset/graph_1.txt')\n",
    "for name in graph:\n",
    "    if name == 1:\n",
    "        continue\n",
    "    if graph[name] not in graph[1].parents:\n",
    "        graph[1].parents.append(graph[name])\n",
    "        graph[name].childs.append(graph[1])\n",
    "AHPS(graph, simrank=False)"
   ]
  },
  {
   "cell_type": "markdown",
   "metadata": {},
   "source": [
    "#### Increase PageRank  \n",
    "- The same way as increasing authority\n",
    "- Node1 **receives all node cittaions in graph.**\n",
    "- PageRank(node1): 0.060716 -> 0.34838\n"
   ]
  },
  {
   "cell_type": "markdown",
   "metadata": {},
   "source": [
    "### Graph2\n",
    "- Dataset: /hw3dataset/graph_2.txt\n",
    "- Graph: 5 nodes, 5 edges (a circle)\n",
    "- time: <15ms\n"
   ]
  },
  {
   "cell_type": "code",
   "execution_count": 9,
   "metadata": {},
   "outputs": [
    {
     "name": "stdout",
     "output_type": "stream",
     "text": [
      "[Calculate SimRank] time: 0.0\n",
      "       Auth       Hub PageRank\n",
      "1  0.447214  0.447214      0.2\n",
      "2  0.447214  0.447214      0.2\n",
      "3  0.447214  0.447214      0.2\n",
      "4  0.447214  0.447214      0.2\n",
      "5  0.447214  0.447214      0.2\n",
      "SimRank:\n",
      "[[1. 0. 0. 0. 0.]\n",
      " [0. 1. 0. 0. 0.]\n",
      " [0. 0. 1. 0. 0.]\n",
      " [0. 0. 0. 1. 0.]\n",
      " [0. 0. 0. 0. 1.]]\n",
      "Wall time: 14 ms\n"
     ]
    }
   ],
   "source": [
    "%%time\n",
    "# Read file and initial graph\n",
    "graph = getGraph('hw3dataset/graph_2.txt')\n",
    "AHPS(graph)"
   ]
  },
  {
   "cell_type": "markdown",
   "metadata": {},
   "source": [
    "#### Increase Hubness \n",
    "- Node 1 **link to all nodes in graph**\n",
    "- hub(node1): 0.447214 -> 0.889"
   ]
  },
  {
   "cell_type": "code",
   "execution_count": 10,
   "metadata": {},
   "outputs": [
    {
     "name": "stdout",
     "output_type": "stream",
     "text": [
      "       Auth       Hub  PageRank\n",
      "1  0.267261  0.889001  0.242671\n",
      "2  0.267261     0.254  0.087968\n",
      "3  0.534522     0.254  0.162741\n",
      "4  0.534522     0.254  0.226298\n",
      "5  0.534522     0.127  0.280322\n"
     ]
    }
   ],
   "source": [
    "graph = getGraph('hw3dataset/graph_2.txt')\n",
    "for name in graph:\n",
    "    if name == 1:\n",
    "        continue\n",
    "    if graph[name] not in graph[1].childs:\n",
    "        graph[1].childs.append(graph[name])\n",
    "        graph[name].parents.append(graph[1])\n",
    "AHPS(graph, simrank=False)"
   ]
  },
  {
   "cell_type": "markdown",
   "metadata": {},
   "source": [
    "#### Increase Authority  \n",
    "- Node1 **receives all node cittaions in graph.**\n",
    "- auth(node1): 0.447214 -> 0.894427"
   ]
  },
  {
   "cell_type": "code",
   "execution_count": 19,
   "metadata": {},
   "outputs": [
    {
     "name": "stdout",
     "output_type": "stream",
     "text": [
      "       Auth       Hub  PageRank\n",
      "1  0.894427  0.104257  0.356288\n",
      "2  0.223607  0.521286  0.326337\n",
      "3  0.223607  0.521286  0.162185\n",
      "4  0.223607  0.521286   0.09242\n",
      "5  0.223607  0.417029   0.06277\n"
     ]
    }
   ],
   "source": [
    "graph = getGraph('hw3dataset/graph_2.txt')\n",
    "for name in graph:\n",
    "    if name == 1:\n",
    "        continue\n",
    "    if graph[name] not in graph[1].parents:\n",
    "        graph[1].parents.append(graph[name])\n",
    "        graph[name].childs.append(graph[1])\n",
    "AHPS(graph, simrank=False)"
   ]
  },
  {
   "cell_type": "markdown",
   "metadata": {},
   "source": [
    "#### Increase PageRank  \n",
    "- The same way as increasing authority\n",
    "- Node1 **receives all node cittaions in graph.**\n",
    "- PageRank(node1): 0.2 -> 0.35288\n"
   ]
  },
  {
   "cell_type": "markdown",
   "metadata": {},
   "source": [
    "### Graph3\n",
    "- Dataset: /hw3dataset/graph_3.txt\n",
    "- Graph: 4 nodes, 6 edges\n",
    "- time: <15ms"
   ]
  },
  {
   "cell_type": "code",
   "execution_count": 20,
   "metadata": {},
   "outputs": [
    {
     "name": "stdout",
     "output_type": "stream",
     "text": [
      "[Calculate SimRank] time: 0.0009970664978027344\n",
      "       Auth       Hub  PageRank\n",
      "1  0.316228  0.392232  0.149042\n",
      "2  0.632456  0.588348  0.275727\n",
      "3  0.632456  0.588348  0.376387\n",
      "4  0.316228  0.392232  0.198845\n",
      "SimRank:\n",
      "[[1.         0.         0.42857143 0.        ]\n",
      " [0.         1.         0.         0.42857143]\n",
      " [0.42857143 0.         1.         0.        ]\n",
      " [0.         0.42857143 0.         1.        ]]\n",
      "Wall time: 9.97 ms\n"
     ]
    }
   ],
   "source": [
    "%%time\n",
    "# Read file and initial graph\n",
    "graph = getGraph('hw3dataset/graph_3.txt')\n",
    "AHPS(graph)"
   ]
  },
  {
   "cell_type": "markdown",
   "metadata": {},
   "source": [
    "#### Increase Hubness \n",
    "- Node 1 **link to all nodes in graph**\n",
    "- hub(node1): 0.392232 -> 0.737865"
   ]
  },
  {
   "cell_type": "code",
   "execution_count": 21,
   "metadata": {},
   "outputs": [
    {
     "name": "stdout",
     "output_type": "stream",
     "text": [
      "       Auth       Hub  PageRank\n",
      "1  0.235702  0.737865   0.15416\n",
      "2  0.471405  0.421637  0.197839\n",
      "3  0.707107  0.421637  0.395865\n",
      "4  0.471405  0.316228  0.252137\n"
     ]
    }
   ],
   "source": [
    "graph = getGraph('hw3dataset/graph_3.txt')\n",
    "for name in graph:\n",
    "    if name == 1:\n",
    "        continue\n",
    "    if graph[name] not in graph[1].childs:\n",
    "        graph[1].childs.append(graph[name])\n",
    "        graph[name].parents.append(graph[1])\n",
    "AHPS(graph, simrank=False)"
   ]
  },
  {
   "cell_type": "markdown",
   "metadata": {},
   "source": [
    "#### Increase Authority  \n",
    "- Node1 **receives all node cittaions in graph.**\n",
    "- auth(node1): 0.316228 -> 0.707107"
   ]
  },
  {
   "cell_type": "code",
   "execution_count": 22,
   "metadata": {},
   "outputs": [
    {
     "name": "stdout",
     "output_type": "stream",
     "text": [
      "       Auth       Hub  PageRank\n",
      "1  0.707107  0.210819  0.283502\n",
      "2  0.471405  0.527046  0.336704\n",
      "3  0.471405  0.632456  0.270123\n",
      "4  0.235702  0.527046  0.109671\n"
     ]
    }
   ],
   "source": [
    "graph = getGraph('hw3dataset/graph_3.txt')\n",
    "for name in graph:\n",
    "    if name == 1:\n",
    "        continue\n",
    "    if graph[name] not in graph[1].parents:\n",
    "        graph[1].parents.append(graph[name])\n",
    "        graph[name].childs.append(graph[1])\n",
    "AHPS(graph, simrank=False)"
   ]
  },
  {
   "cell_type": "markdown",
   "metadata": {},
   "source": [
    "#### Increase PageRank  \n",
    "- The same way as increasing authority\n",
    "- Node1 **receives all node cittaions in graph.**\n",
    "- PageRank(node1): 0.0149 -> 0.283502\n"
   ]
  },
  {
   "cell_type": "markdown",
   "metadata": {},
   "source": [
    "### Graph4\n",
    "- Dataset: /hw3dataset/graph_4.txt\n",
    "- Graph: 7 nodes, 18 edges (the example in Lecture3, p29)\n",
    "- time: <30ms"
   ]
  },
  {
   "cell_type": "code",
   "execution_count": 23,
   "metadata": {},
   "outputs": [
    {
     "name": "stdout",
     "output_type": "stream",
     "text": [
      "[Calculate SimRank] time: 0.022925138473510742\n",
      "       Auth       Hub  PageRank\n",
      "1  0.534522  0.573405  0.256862\n",
      "2  0.400892  0.176432  0.150563\n",
      "3  0.400892  0.308757  0.124098\n",
      "4  0.267261  0.441081  0.088812\n",
      "5  0.534522  0.441081  0.246298\n",
      "6  0.133631  0.352865  0.071019\n",
      "7  0.133631  0.176432  0.062347\n",
      "SimRank:\n",
      "[[1.         0.16616792 0.15766797 0.16537597 0.1478556  0.22608541\n",
      "  0.10466654]\n",
      " [0.16616792 1.         0.21707712 0.18287626 0.214697   0.10114374\n",
      "  0.26460879]\n",
      " [0.15766797 0.21707712 1.         0.26201824 0.19876792 0.26139016\n",
      "  0.26264631]\n",
      " [0.16537597 0.18287626 0.26201824 1.         0.15909518 0.34435668\n",
      "  0.34435668]\n",
      " [0.1478556  0.214697   0.19876792 0.15909518 1.         0.09377117\n",
      "  0.22441919]\n",
      " [0.22608541 0.10114374 0.26139016 0.34435668 0.09377117 1.\n",
      "  0.08871336]\n",
      " [0.10466654 0.26460879 0.26264631 0.34435668 0.22441919 0.08871336\n",
      "  1.        ]]\n",
      "Wall time: 32.9 ms\n"
     ]
    }
   ],
   "source": [
    "%%time\n",
    "# Read file and initial graph\n",
    "graph = getGraph('hw3dataset/graph_4.txt')\n",
    "AHPS(graph)"
   ]
  },
  {
   "cell_type": "markdown",
   "metadata": {},
   "source": [
    "### Graph5\n",
    "- Dataset: /hw3dataset/graph_5.txt\n",
    "- Graph:  469 nodes, 1102 edges\n",
    "- time: **356s**"
   ]
  },
  {
   "cell_type": "code",
   "execution_count": 24,
   "metadata": {},
   "outputs": [
    {
     "name": "stdout",
     "output_type": "stream",
     "text": [
      "[Calculate SimRank] time: 762.4361662864685\n",
      "         Auth       Hub  PageRank\n",
      "1           0  0.012684  0.001076\n",
      "2           0  0.002985  0.001076\n",
      "3           0  0.011192  0.001076\n",
      "4           0  0.044768  0.001076\n",
      "5           0  0.033576  0.001076\n",
      "6    0.009498  0.011938  0.001229\n",
      "7    0.009498  0.053722  0.001168\n",
      "8    0.009498         0  0.001207\n",
      "9    0.009498         0  0.001305\n",
      "10   0.009498         0  0.001305\n",
      "11   0.009498  0.008954  0.001207\n",
      "12   0.009498  0.050738  0.001168\n",
      "13   0.009498  0.001492  0.001305\n",
      "14   0.009498         0  0.001305\n",
      "15   0.009498         0  0.001168\n",
      "16   0.009498         0   0.00133\n",
      "17   0.009498         0   0.00132\n",
      "18   0.028495         0  0.002421\n",
      "19   0.009498         0  0.002093\n",
      "20   0.009498         0  0.001233\n",
      "21   0.028495         0  0.004888\n",
      "22   0.028495         0  0.004549\n",
      "23   0.009498         0  0.001233\n",
      "24   0.037994         0   0.00565\n",
      "25   0.018997         0  0.001884\n",
      "26   0.009498         0  0.001225\n",
      "27   0.009498  0.014177  0.001947\n",
      "28   0.009498         0   0.00132\n",
      "29   0.009498         0   0.00132\n",
      "30   0.009498         0  0.004126\n",
      "..        ...       ...       ...\n",
      "440  0.009498  0.146244  0.001796\n",
      "441  0.009498         0   0.00112\n",
      "442  0.009498         0   0.00112\n",
      "443  0.009498  0.134305  0.001483\n",
      "444  0.075987         0  0.002154\n",
      "445  0.009498         0  0.001615\n",
      "446  0.009498         0  0.001163\n",
      "447  0.009498         0  0.001163\n",
      "448  0.009498  0.005969  0.001225\n",
      "449  0.009498         0  0.001147\n",
      "450  0.009498  0.158928  0.001111\n",
      "451  0.018997         0  0.001216\n",
      "452  0.009498         0  0.001198\n",
      "453  0.009498         0  0.001191\n",
      "454  0.075987  0.036561  0.003673\n",
      "455  0.009498         0  0.001111\n",
      "456  0.009498  0.153705  0.001111\n",
      "457  0.056991         0  0.003126\n",
      "458  0.009498  0.123859  0.001111\n",
      "459  0.056991         0   0.00186\n",
      "460  0.009498         0  0.001116\n",
      "461  0.009498         0  0.001233\n",
      "462  0.009498         0  0.001163\n",
      "463  0.018997  0.020146  0.001607\n",
      "464  0.009498         0  0.001154\n",
      "465  0.009498         0  0.001163\n",
      "466  0.018997         0  0.001957\n",
      "467  0.009498         0  0.001206\n",
      "468  0.066489  0.029099  0.002062\n",
      "469  0.009498         0  0.001631\n",
      "\n",
      "[469 rows x 3 columns]\n",
      "SimRank:\n",
      "[[1. 0. 0. ... 0. 0. 0.]\n",
      " [0. 1. 0. ... 0. 0. 0.]\n",
      " [0. 0. 1. ... 0. 0. 0.]\n",
      " ...\n",
      " [0. 0. 0. ... 1. 0. 0.]\n",
      " [0. 0. 0. ... 0. 1. 0.]\n",
      " [0. 0. 0. ... 0. 0. 1.]]\n",
      "Wall time: 12min 42s\n"
     ]
    }
   ],
   "source": [
    "%%time\n",
    "# Read file and initial graph\n",
    "graph = getGraph('hw3dataset/graph_5.txt')\n",
    "AHPS(graph)"
   ]
  },
  {
   "cell_type": "markdown",
   "metadata": {},
   "source": [
    "### Graph6\n",
    "- Dataset: /hw3dataset/graph_6.txt\n",
    "- Graph: 1228 nodes, 5220 edges\n",
    "- time: 750ms"
   ]
  },
  {
   "cell_type": "code",
   "execution_count": 25,
   "metadata": {},
   "outputs": [
    {
     "name": "stdout",
     "output_type": "stream",
     "text": [
      "          Auth       Hub  PageRank\n",
      "1            0  0.068027  0.000514\n",
      "2      0.00607         0  0.000717\n",
      "3     0.003035         0    0.0006\n",
      "4     0.003035         0  0.000611\n",
      "5     0.003035         0  0.000605\n",
      "6     0.033386         0  0.001681\n",
      "7      0.00607   0.07534  0.001027\n",
      "8      0.00607  0.110462  0.000732\n",
      "9     0.015175  0.090186  0.000939\n",
      "10    0.003035         0  0.000585\n",
      "11    0.009105         0  0.001783\n",
      "12    0.003035         0  0.000611\n",
      "13    0.009105  0.024596  0.000763\n",
      "14    0.003035         0    0.0006\n",
      "15    0.048561         0    0.0026\n",
      "16    0.003035         0  0.000646\n",
      "17    0.009105         0  0.000798\n",
      "18    0.003035         0   0.00058\n",
      "19    0.003035         0  0.000605\n",
      "20    0.003035         0  0.000635\n",
      "21     0.00607         0  0.000734\n",
      "22    0.015175         0  0.000802\n",
      "23    0.003035         0  0.000562\n",
      "24    0.003035         0   0.00058\n",
      "25     0.01821  0.081544  0.001139\n",
      "26    0.003035         0  0.000653\n",
      "27    0.003035         0  0.000583\n",
      "28    0.003035         0  0.000641\n",
      "29    0.003035         0   0.00058\n",
      "30    0.003035         0   0.00058\n",
      "...        ...       ...       ...\n",
      "1199  0.103192  0.115336  0.001902\n",
      "1200  0.003035         0  0.000614\n",
      "1201   0.00607         0  0.000587\n",
      "1202  0.009105         0  0.000583\n",
      "1203  0.003035         0  0.000553\n",
      "1204  0.003035         0  0.000853\n",
      "1205  0.003035         0   0.00053\n",
      "1206  0.003035         0  0.000531\n",
      "1207  0.003035         0  0.000553\n",
      "1208  0.003035         0  0.000538\n",
      "1209  0.003035         0  0.000564\n",
      "1210  0.003035         0  0.000529\n",
      "1211  0.003035         0  0.000525\n",
      "1212  0.003035         0   0.00054\n",
      "1213   0.01214         0  0.000608\n",
      "1214  0.003035         0  0.000525\n",
      "1215  0.003035         0  0.000533\n",
      "1216  0.003035         0  0.000541\n",
      "1217  0.003035         0   0.00053\n",
      "1218  0.003035         0  0.000591\n",
      "1219  0.003035         0  0.000564\n",
      "1220  0.003035         0   0.00054\n",
      "1221  0.033386         0  0.001008\n",
      "1222  0.003035         0  0.000564\n",
      "1223   0.00607         0  0.000553\n",
      "1224  0.003035         0  0.000574\n",
      "1225   0.00607         0  0.000568\n",
      "1226  0.003035         0  0.000599\n",
      "1227  0.106228  0.078996   0.00243\n",
      "1228   0.00607         0  0.000556\n",
      "\n",
      "[1228 rows x 3 columns]\n",
      "Wall time: 746 ms\n"
     ]
    }
   ],
   "source": [
    "%%time\n",
    "# Read file and initial graph\n",
    "graph = getGraph('hw3dataset/graph_6.txt')\n",
    "AHPS(graph, simrank=False)"
   ]
  },
  {
   "cell_type": "markdown",
   "metadata": {},
   "source": [
    "### Graph7\n",
    "- from Project1 IBM transation data\n",
    "- Dataset: /hw3dataset/graph_7.txt\n",
    "- Graph: 15622 nodes, 29572 edges\n",
    "- time: 51.6s"
   ]
  },
  {
   "cell_type": "code",
   "execution_count": 29,
   "metadata": {},
   "outputs": [],
   "source": [
    "\"\"\"convert original data and save as graph_7.txt\"\"\"\n",
    "with open('hw3dataset/data.txt', 'r') as f:\n",
    "    with open('hw3dataset/graph_7.txt', 'w') as f_out:\n",
    "        out = list()\n",
    "        for line in f:\n",
    "            v1, v2, v3 = line.split()\n",
    "            f_out.write('{},{}\\n'.format(v2,v3))"
   ]
  },
  {
   "cell_type": "code",
   "execution_count": 30,
   "metadata": {},
   "outputs": [
    {
     "name": "stdout",
     "output_type": "stream",
     "text": [
      "           Auth       Hub  PageRank\n",
      "1             0  0.021913   5.1e-05\n",
      "2             0  0.006527   5.1e-05\n",
      "3             0  0.014919   5.1e-05\n",
      "4             0  0.031703   5.1e-05\n",
      "5             0  0.008392   5.1e-05\n",
      "6             0  0.010723   5.1e-05\n",
      "7             0  0.018649   5.1e-05\n",
      "8             0  0.009791   5.1e-05\n",
      "9             0  0.027041   5.1e-05\n",
      "10            0  0.013987   5.1e-05\n",
      "11            0   0.04569   5.1e-05\n",
      "12            0  0.004196   5.1e-05\n",
      "13            0  0.008392   5.1e-05\n",
      "14            0  0.025176   5.1e-05\n",
      "15            0  0.021446   5.1e-05\n",
      "16            0  0.011656   5.1e-05\n",
      "17            0  0.010723   5.1e-05\n",
      "18            0  0.018649   5.1e-05\n",
      "19            0  0.013521   5.1e-05\n",
      "20            0  0.013054   5.1e-05\n",
      "21            0  0.004662   5.1e-05\n",
      "22            0  0.017717   5.1e-05\n",
      "23            0  0.015385   5.1e-05\n",
      "24            0  0.024244   5.1e-05\n",
      "25     0.009339  0.013521  0.000173\n",
      "26            0  0.005595   5.1e-05\n",
      "27            0  0.028906   5.1e-05\n",
      "28            0  0.006527   5.1e-05\n",
      "29     0.012452  0.012122  0.000138\n",
      "30            0  0.004662   5.1e-05\n",
      "...         ...       ...       ...\n",
      "98227  0.012452         0   6.4e-05\n",
      "98228  0.003113         0   5.4e-05\n",
      "98229  0.009339         0   6.6e-05\n",
      "54554  0.003113         0   5.4e-05\n",
      "32700  0.009339         0   5.9e-05\n",
      "65469  0.021791         0  0.000122\n",
      "98239  0.006226         0   6.1e-05\n",
      "829           0  0.013521   5.1e-05\n",
      "2409          0  0.019581   5.1e-05\n",
      "76377  0.003113         0   5.4e-05\n",
      "65480  0.012452         0   6.3e-05\n",
      "98250  0.003113         0   5.5e-05\n",
      "98253  0.015565         0   7.2e-05\n",
      "32720  0.006226         0   5.6e-05\n",
      "98262  0.003113         0   5.4e-05\n",
      "5455   0.006226         0   5.7e-05\n",
      "65501  0.009339         0   6.4e-05\n",
      "65503  0.003113         0   5.4e-05\n",
      "98273  0.003113         0   5.5e-05\n",
      "98550  0.003113         0   5.5e-05\n",
      "98278  0.009339         0   6.4e-05\n",
      "33824  0.009339         0   6.6e-05\n",
      "98289  0.003113         0   5.6e-05\n",
      "98292  0.003113         0   5.5e-05\n",
      "32757  0.006226         0     6e-05\n",
      "87380  0.003113         0   5.6e-05\n",
      "16383  0.003113         0   5.4e-05\n",
      "98301  0.003113         0   5.5e-05\n",
      "65534  0.003113         0   6.5e-05\n",
      "65535  0.006226         0   6.1e-05\n",
      "\n",
      "[15622 rows x 3 columns]\n",
      "Wall time: 47.5 s\n"
     ]
    }
   ],
   "source": [
    "%%time\n",
    "# Read file and initial graph\n",
    "graph = getGraph('hw3dataset/graph_7.txt')\n",
    "AHPS(graph, simrank=False)"
   ]
  },
  {
   "cell_type": "markdown",
   "metadata": {},
   "source": [
    "## Dicussion\n",
    "---"
   ]
  },
  {
   "cell_type": "markdown",
   "metadata": {},
   "source": [
    "### Computation performance analysis\n",
    "$N$: # of pages, $M$: # of edges, $k$: # of iteration\n",
    "- Hub and Auth: $O(N)$\n",
    "- PageRank: $O(k*(N+M))$\n",
    "    - 設置較低的門檻值(e)，可以減少迭帶次數(k)。\n",
    "- SimRank: $O(k*N^2)$\n",
    "    - Graph5: N = 469，因此大幅增加計算時間\n",
    "    - S(a,b) = S(b,a) 此為對稱關係，若避免重複求值，可以減少一半計算量。\n",
    "\n",
    "### Other\n",
    "- 無法以單一指表來衡量page重要性\n",
    "- 在真實情況下，page數相當龐大，許多演算法難以實作\n",
    "- 如何設計一個適切的資料結構來計算page重要性相當重要，可以由加速存取資料的速度來改善效能"
   ]
  },
  {
   "cell_type": "markdown",
   "metadata": {},
   "source": [
    "## Q & A\n",
    "---"
   ]
  },
  {
   "cell_type": "markdown",
   "metadata": {},
   "source": [
    "### Q1. More limitations about link analysis algorithms\n",
    "- 難以用單一指標來衡量Page\n",
    "- page數快速增加，造成演算法實作的困難"
   ]
  },
  {
   "cell_type": "markdown",
   "metadata": {},
   "source": [
    "### Q2. Can link analysis algorithms really find the “important” pages from Web?\n",
    "以PageRank為例\n",
    "- 如果引用許多高PageRank的網頁，便可以增加自身的PageRank\n",
    "- 因此當演算法被解析，反常的page大量出現，就難以衡量page的重要性。"
   ]
  },
  {
   "cell_type": "markdown",
   "metadata": {},
   "source": [
    "### Q3. What are practical issues when implement these algorithms in a real Web? (Performance discussion)\n",
    "\n",
    "以PageRank為例\n",
    "- Initial \n",
    "    - time cost: $O(N)$\n",
    "    - 需要知道**page的總數**來初始化，然而page數量不斷增加，難以計算總數。\n",
    "- Update: \n",
    "    - time cost: $O(N^2)$\n",
    "    - 要更新PageRank直到穩定的階段，不但時間複雜度提高，再到穩定階段前可能又有新的page出現。\n",
    "- 因此 **page數量不斷上升** 以及 **page的關係不斷改變** ，成為難以應用於現實情況的關鍵。\n",
    "    "
   ]
  },
  {
   "cell_type": "markdown",
   "metadata": {},
   "source": [
    "### Q4. What do the result say for your actor/movie graph?  \n",
    "*pass*"
   ]
  },
  {
   "cell_type": "markdown",
   "metadata": {},
   "source": [
    "### Q5. Any new idea about the link analysis algorithm? \n",
    "*pass*"
   ]
  },
  {
   "cell_type": "markdown",
   "metadata": {},
   "source": [
    "### Q6. What is the effect of “C” parameter in SimRank? \n",
    "假設page x 指向 page a, page b\n",
    "- 因為S(x, x)=1，不該使 S(c, d) = S(x, x) = 1，所以乘上 **C** 使 S(c, d) !=1"
   ]
  },
  {
   "cell_type": "markdown",
   "metadata": {},
   "source": [
    "### Q7. Design a new link-based similarity measurement \n",
    "*pass*"
   ]
  }
 ],
 "metadata": {
  "kernelspec": {
   "display_name": "Python 3",
   "language": "python",
   "name": "python3"
  },
  "language_info": {
   "codemirror_mode": {
    "name": "ipython",
    "version": 3
   },
   "file_extension": ".py",
   "mimetype": "text/x-python",
   "name": "python",
   "nbconvert_exporter": "python",
   "pygments_lexer": "ipython3",
   "version": "3.5.6"
  }
 },
 "nbformat": 4,
 "nbformat_minor": 2
}
